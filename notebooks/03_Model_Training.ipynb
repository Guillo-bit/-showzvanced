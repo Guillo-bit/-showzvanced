{
 "cells": [
  {
   "cell_type": "markdown",
   "id": "bd4804e6",
   "metadata": {},
   "source": [
    "## Modelado Predictivo\n",
    "\n",
    "Evaluación de Modelos: LTV_180 y CAC_source_30"
   ]
  },
  {
   "cell_type": "markdown",
   "id": "54afff6c",
   "metadata": {},
   "source": [
    "### 1. Entrenamiento y Arquitectura\n",
    "\n",
    "Se entrenaron modelos de regresión para las siguientes métricas clave de negocio:\n",
    "\n",
    "- **LTV_180**: Valor de vida del cliente acumulado a 180 días.\n",
    "- **CAC_source_30**: Costo de adquisición de cliente segmentado por fuente a 30 días.\n",
    "\n",
    "El pipeline incluyó entrenamiento de modelos base, modelos avanzados (e.g. LightGBM) y ensambladores, con estrategias de validación para mitigar sobreajuste y evaluar la capacidad de generalización."
   ]
  },
  {
   "cell_type": "markdown",
   "id": "3da3dc5e",
   "metadata": {},
   "source": [
    "### 2. Resultados: LTV_180\n",
    "\n",
    "| Conjunto     | MAE    | RMSE   | MAPE   |\n",
    "|--------------|--------|--------|--------|\n",
    "| Entrenamiento| 0.0358 | 3.9221 | 0.0001 |\n",
    "| Validación   | 0.0060 | 0.1991 | 0.0001 |\n",
    "| Test         | 0.0117 | 0.6691 | 0.0001 |\n",
    "\n",
    "**Análisis**:\n",
    "- El modelo presenta un **desempeño excelente** en todos los conjuntos, con errores absolutos y relativos extremadamente bajos.\n",
    "- El **RMSE en test (0.6691)** indica gran precisión incluso en datos no vistos.\n",
    "- El **MAPE cercano a 0%** sugiere que las predicciones son consistentemente cercanas a los valores reales."
   ]
  },
  {
   "cell_type": "markdown",
   "id": "bc4c065e",
   "metadata": {},
   "source": [
    "### 3. Resultados: CAC_source_30\n",
    "\n",
    "| Conjunto     | MAE     | RMSE    | MAPE   |\n",
    "|--------------|---------|---------|--------|\n",
    "| Entrenamiento| 38.1660 | 77.6604 | 0.3820 |\n",
    "| Validación   | 97.8642 | 117.380 | 0.9131 |\n",
    "| Test         | 81.8777 | 115.582 | 0.9267 |\n",
    "\n",
    "**Análisis**:\n",
    "- Se observa un **fuerte sobreajuste**: el desempeño del modelo en entrenamiento es muy superior al de validación/test.\n",
    "- El **MAPE en test (~92.7%)** indica que el modelo falla en capturar adecuadamente la variabilidad del target en datos no vistos.\n",
    "- Este comportamiento puede deberse a:\n",
    "  - Alta varianza natural en el CAC (datos ruidosos).\n",
    "  - Falta de señales predictivas fuertes en las variables actuales.\n",
    "  - Distribución sesgada del target o presencia de valores atípicos/extremos."
   ]
  },
  {
   "cell_type": "markdown",
   "id": "e671d364",
   "metadata": {},
   "source": [
    "### 5. Conclusión\n",
    "\n",
    "El entrenamiento y evaluación de modelos se completó exitosamente. El modelo de LTV_180 presenta un desempeño robusto y generaliza bien. En cambio, el modelo de CAC_source_30 muestra limitaciones en su capacidad predictiva fuera del set de entrenamiento. Se documentan los hallazgos y se recomienda tomar decisiones de negocio considerando estas diferencias de desempeño."
   ]
  }
 ],
 "metadata": {
  "kernelspec": {
   "display_name": "Python 3",
   "language": "python",
   "name": "python3"
  },
  "language_info": {
   "codemirror_mode": {
    "name": "ipython",
    "version": 3
   },
   "file_extension": ".py",
   "mimetype": "text/x-python",
   "name": "python",
   "nbconvert_exporter": "python",
   "pygments_lexer": "ipython3",
   "version": "3.13.3"
  }
 },
 "nbformat": 4,
 "nbformat_minor": 5
}
